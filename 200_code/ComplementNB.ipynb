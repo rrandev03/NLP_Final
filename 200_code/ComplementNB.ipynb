{
  "nbformat": 4,
  "nbformat_minor": 0,
  "metadata": {
    "colab": {
      "provenance": []
    },
    "kernelspec": {
      "name": "python3",
      "display_name": "Python 3"
    },
    "language_info": {
      "name": "python"
    }
  },
  "cells": [
    {
      "cell_type": "markdown",
      "source": [
        "# Pip Install"
      ],
      "metadata": {
        "id": "ok_HBxjBTGby"
      }
    },
    {
      "cell_type": "code",
      "execution_count": 14,
      "metadata": {
        "id": "GhmMunxlOUXA"
      },
      "outputs": [],
      "source": [
        "#pip install numpy pandas torch matplotlib seaborn emoji nltk"
      ]
    },
    {
      "cell_type": "markdown",
      "source": [
        "# Loading Data and Packages\n"
      ],
      "metadata": {
        "id": "_PIhlo1jTQfx"
      }
    },
    {
      "cell_type": "code",
      "source": [
        "import pandas as pd\n",
        "import numpy as np\n",
        "import torch\n",
        "import matplotlib.pyplot as plt\n",
        "import seaborn as sns\n",
        "\n",
        "pd.set_option(\"display.max_colwidth\", None)\n"
      ],
      "metadata": {
        "id": "UcDiUxYXTIQu"
      },
      "execution_count": 15,
      "outputs": []
    },
    {
      "cell_type": "code",
      "source": [
        "real_train = pd.read_csv(\"https://raw.githubusercontent.com/rrandev03/NLP_Final/refs/heads/main/100_data/102_processed/full_cleaned_df.csv\", header = 0)\n",
        "real_train.head(3)"
      ],
      "metadata": {
        "colab": {
          "base_uri": "https://localhost:8080/",
          "height": 352
        },
        "id": "7fIj4-iYTIS8",
        "outputId": "b3647537-1393-49e5-ce71-9fa3516d150e"
      },
      "execution_count": 16,
      "outputs": [
        {
          "output_type": "execute_result",
          "data": {
            "text/plain": [
              "   Unnamed: 0  \\\n",
              "0           0   \n",
              "1           1   \n",
              "2           2   \n",
              "\n",
              "                                                                                                                                                                                                                                                                           Tweet_Content  \\\n",
              "0                                                                                                                                              If you ask me $NIO ET7 is on elf the best looking cars all around the world! I really love this electric vehicle! https://t.co/5LH739LEWj   \n",
              "1  Here are the annual UK vehicle registration % for electric vehicles. In December, 1 in 6 cars registered were fully electric - significantly higher than diesel. @CrowdCharge  @DriveElectricUK #electricvehicles #BuildBackBetter \\n [Thanks @SMMT for data] https://t.co/VZsp7Eusv5   \n",
              "2                                                                                                                                     Robert Downey Jr. turns his classic cars into electric vehicles as part of a new documentary series, ‘Downey's Dream Cars’ https://t.co/NGv3ekJb9r   \n",
              "\n",
              "     Labels  \\\n",
              "0  POSITIVE   \n",
              "1  POSITIVE   \n",
              "2   NEUTRAL   \n",
              "\n",
              "                                                                                                                                                                                               Cleaned_Tweets  \\\n",
              "0                                                                                              if you ask me nio et7 is on elf the best looking cars all around the world i really love this electric vehicle   \n",
              "1  here are the annual uk vehicle registration for electric vehicles in december 1 in 6 cars registered were fully electric significantly higher than diesel electricvehicles buildbackbetter thanks for data   \n",
              "2                                                                                       robert downey jr turns his classic cars into electric vehicles as part of a new documentary series downeys dream cars   \n",
              "\n",
              "   Sentiment  \n",
              "0          2  \n",
              "1          2  \n",
              "2          1  "
            ],
            "text/html": [
              "\n",
              "  <div id=\"df-54110acd-75a6-48c2-908e-4ffbfff2c201\" class=\"colab-df-container\">\n",
              "    <div>\n",
              "<style scoped>\n",
              "    .dataframe tbody tr th:only-of-type {\n",
              "        vertical-align: middle;\n",
              "    }\n",
              "\n",
              "    .dataframe tbody tr th {\n",
              "        vertical-align: top;\n",
              "    }\n",
              "\n",
              "    .dataframe thead th {\n",
              "        text-align: right;\n",
              "    }\n",
              "</style>\n",
              "<table border=\"1\" class=\"dataframe\">\n",
              "  <thead>\n",
              "    <tr style=\"text-align: right;\">\n",
              "      <th></th>\n",
              "      <th>Unnamed: 0</th>\n",
              "      <th>Tweet_Content</th>\n",
              "      <th>Labels</th>\n",
              "      <th>Cleaned_Tweets</th>\n",
              "      <th>Sentiment</th>\n",
              "    </tr>\n",
              "  </thead>\n",
              "  <tbody>\n",
              "    <tr>\n",
              "      <th>0</th>\n",
              "      <td>0</td>\n",
              "      <td>If you ask me $NIO ET7 is on elf the best looking cars all around the world! I really love this electric vehicle! https://t.co/5LH739LEWj</td>\n",
              "      <td>POSITIVE</td>\n",
              "      <td>if you ask me nio et7 is on elf the best looking cars all around the world i really love this electric vehicle</td>\n",
              "      <td>2</td>\n",
              "    </tr>\n",
              "    <tr>\n",
              "      <th>1</th>\n",
              "      <td>1</td>\n",
              "      <td>Here are the annual UK vehicle registration % for electric vehicles. In December, 1 in 6 cars registered were fully electric - significantly higher than diesel. @CrowdCharge  @DriveElectricUK #electricvehicles #BuildBackBetter \\n [Thanks @SMMT for data] https://t.co/VZsp7Eusv5</td>\n",
              "      <td>POSITIVE</td>\n",
              "      <td>here are the annual uk vehicle registration for electric vehicles in december 1 in 6 cars registered were fully electric significantly higher than diesel electricvehicles buildbackbetter thanks for data</td>\n",
              "      <td>2</td>\n",
              "    </tr>\n",
              "    <tr>\n",
              "      <th>2</th>\n",
              "      <td>2</td>\n",
              "      <td>Robert Downey Jr. turns his classic cars into electric vehicles as part of a new documentary series, ‘Downey's Dream Cars’ https://t.co/NGv3ekJb9r</td>\n",
              "      <td>NEUTRAL</td>\n",
              "      <td>robert downey jr turns his classic cars into electric vehicles as part of a new documentary series downeys dream cars</td>\n",
              "      <td>1</td>\n",
              "    </tr>\n",
              "  </tbody>\n",
              "</table>\n",
              "</div>\n",
              "    <div class=\"colab-df-buttons\">\n",
              "\n",
              "  <div class=\"colab-df-container\">\n",
              "    <button class=\"colab-df-convert\" onclick=\"convertToInteractive('df-54110acd-75a6-48c2-908e-4ffbfff2c201')\"\n",
              "            title=\"Convert this dataframe to an interactive table.\"\n",
              "            style=\"display:none;\">\n",
              "\n",
              "  <svg xmlns=\"http://www.w3.org/2000/svg\" height=\"24px\" viewBox=\"0 -960 960 960\">\n",
              "    <path d=\"M120-120v-720h720v720H120Zm60-500h600v-160H180v160Zm220 220h160v-160H400v160Zm0 220h160v-160H400v160ZM180-400h160v-160H180v160Zm440 0h160v-160H620v160ZM180-180h160v-160H180v160Zm440 0h160v-160H620v160Z\"/>\n",
              "  </svg>\n",
              "    </button>\n",
              "\n",
              "  <style>\n",
              "    .colab-df-container {\n",
              "      display:flex;\n",
              "      gap: 12px;\n",
              "    }\n",
              "\n",
              "    .colab-df-convert {\n",
              "      background-color: #E8F0FE;\n",
              "      border: none;\n",
              "      border-radius: 50%;\n",
              "      cursor: pointer;\n",
              "      display: none;\n",
              "      fill: #1967D2;\n",
              "      height: 32px;\n",
              "      padding: 0 0 0 0;\n",
              "      width: 32px;\n",
              "    }\n",
              "\n",
              "    .colab-df-convert:hover {\n",
              "      background-color: #E2EBFA;\n",
              "      box-shadow: 0px 1px 2px rgba(60, 64, 67, 0.3), 0px 1px 3px 1px rgba(60, 64, 67, 0.15);\n",
              "      fill: #174EA6;\n",
              "    }\n",
              "\n",
              "    .colab-df-buttons div {\n",
              "      margin-bottom: 4px;\n",
              "    }\n",
              "\n",
              "    [theme=dark] .colab-df-convert {\n",
              "      background-color: #3B4455;\n",
              "      fill: #D2E3FC;\n",
              "    }\n",
              "\n",
              "    [theme=dark] .colab-df-convert:hover {\n",
              "      background-color: #434B5C;\n",
              "      box-shadow: 0px 1px 3px 1px rgba(0, 0, 0, 0.15);\n",
              "      filter: drop-shadow(0px 1px 2px rgba(0, 0, 0, 0.3));\n",
              "      fill: #FFFFFF;\n",
              "    }\n",
              "  </style>\n",
              "\n",
              "    <script>\n",
              "      const buttonEl =\n",
              "        document.querySelector('#df-54110acd-75a6-48c2-908e-4ffbfff2c201 button.colab-df-convert');\n",
              "      buttonEl.style.display =\n",
              "        google.colab.kernel.accessAllowed ? 'block' : 'none';\n",
              "\n",
              "      async function convertToInteractive(key) {\n",
              "        const element = document.querySelector('#df-54110acd-75a6-48c2-908e-4ffbfff2c201');\n",
              "        const dataTable =\n",
              "          await google.colab.kernel.invokeFunction('convertToInteractive',\n",
              "                                                    [key], {});\n",
              "        if (!dataTable) return;\n",
              "\n",
              "        const docLinkHtml = 'Like what you see? Visit the ' +\n",
              "          '<a target=\"_blank\" href=https://colab.research.google.com/notebooks/data_table.ipynb>data table notebook</a>'\n",
              "          + ' to learn more about interactive tables.';\n",
              "        element.innerHTML = '';\n",
              "        dataTable['output_type'] = 'display_data';\n",
              "        await google.colab.output.renderOutput(dataTable, element);\n",
              "        const docLink = document.createElement('div');\n",
              "        docLink.innerHTML = docLinkHtml;\n",
              "        element.appendChild(docLink);\n",
              "      }\n",
              "    </script>\n",
              "  </div>\n",
              "\n",
              "\n",
              "<div id=\"df-20dc6585-3452-40bd-b534-5a0b16fd3d69\">\n",
              "  <button class=\"colab-df-quickchart\" onclick=\"quickchart('df-20dc6585-3452-40bd-b534-5a0b16fd3d69')\"\n",
              "            title=\"Suggest charts\"\n",
              "            style=\"display:none;\">\n",
              "\n",
              "<svg xmlns=\"http://www.w3.org/2000/svg\" height=\"24px\"viewBox=\"0 0 24 24\"\n",
              "     width=\"24px\">\n",
              "    <g>\n",
              "        <path d=\"M19 3H5c-1.1 0-2 .9-2 2v14c0 1.1.9 2 2 2h14c1.1 0 2-.9 2-2V5c0-1.1-.9-2-2-2zM9 17H7v-7h2v7zm4 0h-2V7h2v10zm4 0h-2v-4h2v4z\"/>\n",
              "    </g>\n",
              "</svg>\n",
              "  </button>\n",
              "\n",
              "<style>\n",
              "  .colab-df-quickchart {\n",
              "      --bg-color: #E8F0FE;\n",
              "      --fill-color: #1967D2;\n",
              "      --hover-bg-color: #E2EBFA;\n",
              "      --hover-fill-color: #174EA6;\n",
              "      --disabled-fill-color: #AAA;\n",
              "      --disabled-bg-color: #DDD;\n",
              "  }\n",
              "\n",
              "  [theme=dark] .colab-df-quickchart {\n",
              "      --bg-color: #3B4455;\n",
              "      --fill-color: #D2E3FC;\n",
              "      --hover-bg-color: #434B5C;\n",
              "      --hover-fill-color: #FFFFFF;\n",
              "      --disabled-bg-color: #3B4455;\n",
              "      --disabled-fill-color: #666;\n",
              "  }\n",
              "\n",
              "  .colab-df-quickchart {\n",
              "    background-color: var(--bg-color);\n",
              "    border: none;\n",
              "    border-radius: 50%;\n",
              "    cursor: pointer;\n",
              "    display: none;\n",
              "    fill: var(--fill-color);\n",
              "    height: 32px;\n",
              "    padding: 0;\n",
              "    width: 32px;\n",
              "  }\n",
              "\n",
              "  .colab-df-quickchart:hover {\n",
              "    background-color: var(--hover-bg-color);\n",
              "    box-shadow: 0 1px 2px rgba(60, 64, 67, 0.3), 0 1px 3px 1px rgba(60, 64, 67, 0.15);\n",
              "    fill: var(--button-hover-fill-color);\n",
              "  }\n",
              "\n",
              "  .colab-df-quickchart-complete:disabled,\n",
              "  .colab-df-quickchart-complete:disabled:hover {\n",
              "    background-color: var(--disabled-bg-color);\n",
              "    fill: var(--disabled-fill-color);\n",
              "    box-shadow: none;\n",
              "  }\n",
              "\n",
              "  .colab-df-spinner {\n",
              "    border: 2px solid var(--fill-color);\n",
              "    border-color: transparent;\n",
              "    border-bottom-color: var(--fill-color);\n",
              "    animation:\n",
              "      spin 1s steps(1) infinite;\n",
              "  }\n",
              "\n",
              "  @keyframes spin {\n",
              "    0% {\n",
              "      border-color: transparent;\n",
              "      border-bottom-color: var(--fill-color);\n",
              "      border-left-color: var(--fill-color);\n",
              "    }\n",
              "    20% {\n",
              "      border-color: transparent;\n",
              "      border-left-color: var(--fill-color);\n",
              "      border-top-color: var(--fill-color);\n",
              "    }\n",
              "    30% {\n",
              "      border-color: transparent;\n",
              "      border-left-color: var(--fill-color);\n",
              "      border-top-color: var(--fill-color);\n",
              "      border-right-color: var(--fill-color);\n",
              "    }\n",
              "    40% {\n",
              "      border-color: transparent;\n",
              "      border-right-color: var(--fill-color);\n",
              "      border-top-color: var(--fill-color);\n",
              "    }\n",
              "    60% {\n",
              "      border-color: transparent;\n",
              "      border-right-color: var(--fill-color);\n",
              "    }\n",
              "    80% {\n",
              "      border-color: transparent;\n",
              "      border-right-color: var(--fill-color);\n",
              "      border-bottom-color: var(--fill-color);\n",
              "    }\n",
              "    90% {\n",
              "      border-color: transparent;\n",
              "      border-bottom-color: var(--fill-color);\n",
              "    }\n",
              "  }\n",
              "</style>\n",
              "\n",
              "  <script>\n",
              "    async function quickchart(key) {\n",
              "      const quickchartButtonEl =\n",
              "        document.querySelector('#' + key + ' button');\n",
              "      quickchartButtonEl.disabled = true;  // To prevent multiple clicks.\n",
              "      quickchartButtonEl.classList.add('colab-df-spinner');\n",
              "      try {\n",
              "        const charts = await google.colab.kernel.invokeFunction(\n",
              "            'suggestCharts', [key], {});\n",
              "      } catch (error) {\n",
              "        console.error('Error during call to suggestCharts:', error);\n",
              "      }\n",
              "      quickchartButtonEl.classList.remove('colab-df-spinner');\n",
              "      quickchartButtonEl.classList.add('colab-df-quickchart-complete');\n",
              "    }\n",
              "    (() => {\n",
              "      let quickchartButtonEl =\n",
              "        document.querySelector('#df-20dc6585-3452-40bd-b534-5a0b16fd3d69 button');\n",
              "      quickchartButtonEl.style.display =\n",
              "        google.colab.kernel.accessAllowed ? 'block' : 'none';\n",
              "    })();\n",
              "  </script>\n",
              "</div>\n",
              "\n",
              "    </div>\n",
              "  </div>\n"
            ],
            "application/vnd.google.colaboratory.intrinsic+json": {
              "type": "dataframe",
              "variable_name": "real_train",
              "summary": "{\n  \"name\": \"real_train\",\n  \"rows\": 303,\n  \"fields\": [\n    {\n      \"column\": \"Unnamed: 0\",\n      \"properties\": {\n        \"dtype\": \"number\",\n        \"std\": 87,\n        \"min\": 0,\n        \"max\": 302,\n        \"num_unique_values\": 303,\n        \"samples\": [\n          179,\n          228,\n          111\n        ],\n        \"semantic_type\": \"\",\n        \"description\": \"\"\n      }\n    },\n    {\n      \"column\": \"Tweet_Content\",\n      \"properties\": {\n        \"dtype\": \"string\",\n        \"num_unique_values\": 303,\n        \"samples\": [\n          \"Electric Vehicles (EVs): \\n\\n\\u201cBig firms dragged their feet on electrification for a reason. Batteries were costly and EVs, niche products for the rich. But prices have fallen, regulations have tightened and buyers want EVs.\\u201d\\n\\nSource: @TheEconomist @business \\n\\nCar sales forecast \\ud83d\\udc47 https://t.co/85zNEuJrds\",\n          \"DAILY DRIVE PODCAST: CEO Mike Stanton sets the record straight on the notion that U.S. retailers are not interested in selling battery-electric vehicles in the coming years. #ANDailyDrive https://t.co/YOyGVzBuMp\",\n          \"Chery To Enter UK Market With Omoda 5 SUV https://t.co/4c1tiZ04zC https://t.co/7AZKWkoorb\"\n        ],\n        \"semantic_type\": \"\",\n        \"description\": \"\"\n      }\n    },\n    {\n      \"column\": \"Labels\",\n      \"properties\": {\n        \"dtype\": \"category\",\n        \"num_unique_values\": 3,\n        \"samples\": [\n          \"POSITIVE\",\n          \"NEUTRAL\",\n          \"NEGATIVE\"\n        ],\n        \"semantic_type\": \"\",\n        \"description\": \"\"\n      }\n    },\n    {\n      \"column\": \"Cleaned_Tweets\",\n      \"properties\": {\n        \"dtype\": \"string\",\n        \"num_unique_values\": 303,\n        \"samples\": [\n          \"electric vehicles evs big firms dragged their feet on electrification for a reason batteries were costly and evs niche products for the rich but prices have fallen regulations have tightened and buyers want evs source car sales forecast\",\n          \"daily drive podcast ceo mike stanton sets the record straight on the notion that us retailers are not interested in selling batteryelectric vehicles in the coming years andailydrive\",\n          \"chery to enter uk market with omoda 5 suv\"\n        ],\n        \"semantic_type\": \"\",\n        \"description\": \"\"\n      }\n    },\n    {\n      \"column\": \"Sentiment\",\n      \"properties\": {\n        \"dtype\": \"number\",\n        \"std\": 0,\n        \"min\": 0,\n        \"max\": 2,\n        \"num_unique_values\": 3,\n        \"samples\": [\n          2,\n          1,\n          0\n        ],\n        \"semantic_type\": \"\",\n        \"description\": \"\"\n      }\n    }\n  ]\n}"
            }
          },
          "metadata": {},
          "execution_count": 16
        }
      ]
    },
    {
      "cell_type": "code",
      "source": [
        "#check for NA\n",
        "print(real_train[real_train[\"Sentiment\"].isna()])\n",
        "#check distribution\n",
        "positive = (real_train[\"Sentiment\"] == 2).sum()\n",
        "neutral = (real_train[\"Sentiment\"] == 1).sum()\n",
        "negative = (real_train[\"Sentiment\"] == 0).sum()\n",
        "print(positive, neutral, negative)"
      ],
      "metadata": {
        "colab": {
          "base_uri": "https://localhost:8080/"
        },
        "id": "4wDEnbxUTIrl",
        "outputId": "c20f1ee2-3476-43b4-8561-7e03ed409f7e"
      },
      "execution_count": 17,
      "outputs": [
        {
          "output_type": "stream",
          "name": "stdout",
          "text": [
            "Empty DataFrame\n",
            "Columns: [Unnamed: 0, Tweet_Content, Labels, Cleaned_Tweets, Sentiment]\n",
            "Index: []\n",
            "171 60 72\n"
          ]
        }
      ]
    },
    {
      "cell_type": "markdown",
      "source": [
        "# Train Test Split"
      ],
      "metadata": {
        "id": "gmx0JJRJTsub"
      }
    },
    {
      "cell_type": "code",
      "source": [
        "from sklearn.model_selection import train_test_split\n",
        "\n",
        "X_train, X_test, y_train, y_test = train_test_split(\n",
        "    real_train['Cleaned_Tweets'], real_train['Sentiment'], test_size=0.2, random_state=42\n",
        ")"
      ],
      "metadata": {
        "id": "v0VatNuNTIt9"
      },
      "execution_count": 18,
      "outputs": []
    },
    {
      "cell_type": "markdown",
      "source": [
        "# TF-IDF Tokenisation"
      ],
      "metadata": {
        "id": "ZfMYtyUHTyzS"
      }
    },
    {
      "cell_type": "code",
      "source": [
        "from sklearn.feature_extraction.text import CountVectorizer\n",
        "from sklearn.feature_extraction.text import TfidfTransformer\n",
        "\n",
        "clf = CountVectorizer()\n",
        "X_train_cv =  clf.fit_transform(X_train)\n",
        "X_test_cv = clf.transform(X_test)\n",
        "\n",
        "tf_transformer = TfidfTransformer(use_idf=True).fit(X_train_cv)\n",
        "X_train_tf = tf_transformer.transform(X_train_cv)\n",
        "X_test_tf = tf_transformer.transform(X_test_cv)"
      ],
      "metadata": {
        "id": "TSJy0d9aTIv-"
      },
      "execution_count": 19,
      "outputs": []
    },
    {
      "cell_type": "markdown",
      "source": [
        "# Fit Complement NB"
      ],
      "metadata": {
        "id": "PFAdt1_ATI8I"
      }
    },
    {
      "cell_type": "code",
      "source": [
        "from sklearn.naive_bayes import ComplementNB\n",
        "\n",
        "model = ComplementNB()\n",
        "model.fit(X_train_tf, y_train)\n",
        "result = model.predict(X_test_tf)"
      ],
      "metadata": {
        "id": "nOoawtD7TJDE"
      },
      "execution_count": 20,
      "outputs": []
    },
    {
      "cell_type": "markdown",
      "source": [
        "# Results"
      ],
      "metadata": {
        "id": "g9Zw9iSGUI_z"
      }
    },
    {
      "cell_type": "code",
      "source": [
        "from sklearn.metrics import classification_report\n",
        "\n",
        "print('\\tClassification Report for (Complement) Naive Bayes:\\n\\n',\n",
        "      classification_report(y_test ,result, target_names=['Negative', 'Neutral', 'Positive']))"
      ],
      "metadata": {
        "colab": {
          "base_uri": "https://localhost:8080/"
        },
        "id": "xGXFJatXTJFE",
        "outputId": "a3736362-b02e-4047-ef5c-e762c423d99c"
      },
      "execution_count": 21,
      "outputs": [
        {
          "output_type": "stream",
          "name": "stdout",
          "text": [
            "\tClassification Report for (Complement) Naive Bayes:\n",
            "\n",
            "               precision    recall  f1-score   support\n",
            "\n",
            "    Negative       0.75      0.19      0.30        16\n",
            "     Neutral       0.50      0.07      0.12        14\n",
            "    Positive       0.55      0.97      0.70        31\n",
            "\n",
            "    accuracy                           0.56        61\n",
            "   macro avg       0.60      0.41      0.37        61\n",
            "weighted avg       0.59      0.56      0.46        61\n",
            "\n"
          ]
        }
      ]
    }
  ]
}