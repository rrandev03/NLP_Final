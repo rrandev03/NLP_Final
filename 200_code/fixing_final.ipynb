{
 "cells": [
  {
   "cell_type": "code",
   "execution_count": 1,
   "metadata": {},
   "outputs": [],
   "source": [
    "import pandas as pd\n",
    "import numpy as np\n",
    "\n",
    "pd.set_option(\"mode.copy_on_write\", True)"
   ]
  },
  {
   "cell_type": "code",
   "execution_count": 2,
   "metadata": {},
   "outputs": [],
   "source": [
    "original = pd.read_csv(\"../100_data/102_processed/full_cleaned_df.csv\")"
   ]
  },
  {
   "cell_type": "code",
   "execution_count": 3,
   "metadata": {},
   "outputs": [
    {
     "data": {
      "text/html": [
       "<div>\n",
       "<style scoped>\n",
       "    .dataframe tbody tr th:only-of-type {\n",
       "        vertical-align: middle;\n",
       "    }\n",
       "\n",
       "    .dataframe tbody tr th {\n",
       "        vertical-align: top;\n",
       "    }\n",
       "\n",
       "    .dataframe thead th {\n",
       "        text-align: right;\n",
       "    }\n",
       "</style>\n",
       "<table border=\"1\" class=\"dataframe\">\n",
       "  <thead>\n",
       "    <tr style=\"text-align: right;\">\n",
       "      <th></th>\n",
       "      <th>Unnamed: 0</th>\n",
       "      <th>Tweet_Content</th>\n",
       "      <th>Labels</th>\n",
       "      <th>Cleaned_Tweets</th>\n",
       "      <th>Sentiment</th>\n",
       "    </tr>\n",
       "  </thead>\n",
       "  <tbody>\n",
       "    <tr>\n",
       "      <th>0</th>\n",
       "      <td>0</td>\n",
       "      <td>If you ask me $NIO ET7 is on elf the best look...</td>\n",
       "      <td>POSITIVE</td>\n",
       "      <td>if you ask me nio et7 is on elf the best looki...</td>\n",
       "      <td>2</td>\n",
       "    </tr>\n",
       "    <tr>\n",
       "      <th>1</th>\n",
       "      <td>1</td>\n",
       "      <td>Here are the annual UK vehicle registration % ...</td>\n",
       "      <td>POSITIVE</td>\n",
       "      <td>here are the annual uk vehicle registration fo...</td>\n",
       "      <td>1</td>\n",
       "    </tr>\n",
       "    <tr>\n",
       "      <th>2</th>\n",
       "      <td>2</td>\n",
       "      <td>Robert Downey Jr. turns his classic cars into ...</td>\n",
       "      <td>NEUTRAL</td>\n",
       "      <td>robert downey jr turns his classic cars into e...</td>\n",
       "      <td>1</td>\n",
       "    </tr>\n",
       "    <tr>\n",
       "      <th>3</th>\n",
       "      <td>3</td>\n",
       "      <td>The development of Electric vehicles is becomi...</td>\n",
       "      <td>POSITIVE</td>\n",
       "      <td>the development of electric vehicles is becomi...</td>\n",
       "      <td>2</td>\n",
       "    </tr>\n",
       "    <tr>\n",
       "      <th>4</th>\n",
       "      <td>4</td>\n",
       "      <td>Happy Valentine's day! Today we share out love...</td>\n",
       "      <td>POSITIVE</td>\n",
       "      <td>happy valentines day today we share out love w...</td>\n",
       "      <td>2</td>\n",
       "    </tr>\n",
       "  </tbody>\n",
       "</table>\n",
       "</div>"
      ],
      "text/plain": [
       "   Unnamed: 0                                      Tweet_Content    Labels  \\\n",
       "0           0  If you ask me $NIO ET7 is on elf the best look...  POSITIVE   \n",
       "1           1  Here are the annual UK vehicle registration % ...  POSITIVE   \n",
       "2           2  Robert Downey Jr. turns his classic cars into ...   NEUTRAL   \n",
       "3           3  The development of Electric vehicles is becomi...  POSITIVE   \n",
       "4           4  Happy Valentine's day! Today we share out love...  POSITIVE   \n",
       "\n",
       "                                      Cleaned_Tweets  Sentiment  \n",
       "0  if you ask me nio et7 is on elf the best looki...          2  \n",
       "1  here are the annual uk vehicle registration fo...          1  \n",
       "2  robert downey jr turns his classic cars into e...          1  \n",
       "3  the development of electric vehicles is becomi...          2  \n",
       "4  happy valentines day today we share out love w...          2  "
      ]
     },
     "execution_count": 3,
     "metadata": {},
     "output_type": "execute_result"
    }
   ],
   "source": [
    "original.head()"
   ]
  },
  {
   "cell_type": "code",
   "execution_count": 7,
   "metadata": {},
   "outputs": [],
   "source": [
    "original[\"Sentiment\"] = original[\"Labels\"].map(\n",
    "    {\"NEGATIVE\": 0, \"NEUTRAL\": 1, \"POSITIVE\": 2}\n",
    ")"
   ]
  },
  {
   "cell_type": "code",
   "execution_count": 8,
   "metadata": {},
   "outputs": [
    {
     "data": {
      "text/html": [
       "<div>\n",
       "<style scoped>\n",
       "    .dataframe tbody tr th:only-of-type {\n",
       "        vertical-align: middle;\n",
       "    }\n",
       "\n",
       "    .dataframe tbody tr th {\n",
       "        vertical-align: top;\n",
       "    }\n",
       "\n",
       "    .dataframe thead th {\n",
       "        text-align: right;\n",
       "    }\n",
       "</style>\n",
       "<table border=\"1\" class=\"dataframe\">\n",
       "  <thead>\n",
       "    <tr style=\"text-align: right;\">\n",
       "      <th></th>\n",
       "      <th>Unnamed: 0</th>\n",
       "      <th>Tweet_Content</th>\n",
       "      <th>Labels</th>\n",
       "      <th>Cleaned_Tweets</th>\n",
       "      <th>Sentiment</th>\n",
       "    </tr>\n",
       "  </thead>\n",
       "  <tbody>\n",
       "    <tr>\n",
       "      <th>0</th>\n",
       "      <td>0</td>\n",
       "      <td>If you ask me $NIO ET7 is on elf the best look...</td>\n",
       "      <td>POSITIVE</td>\n",
       "      <td>if you ask me nio et7 is on elf the best looki...</td>\n",
       "      <td>2.0</td>\n",
       "    </tr>\n",
       "    <tr>\n",
       "      <th>1</th>\n",
       "      <td>1</td>\n",
       "      <td>Here are the annual UK vehicle registration % ...</td>\n",
       "      <td>POSITIVE</td>\n",
       "      <td>here are the annual uk vehicle registration fo...</td>\n",
       "      <td>2.0</td>\n",
       "    </tr>\n",
       "    <tr>\n",
       "      <th>2</th>\n",
       "      <td>2</td>\n",
       "      <td>Robert Downey Jr. turns his classic cars into ...</td>\n",
       "      <td>NEUTRAL</td>\n",
       "      <td>robert downey jr turns his classic cars into e...</td>\n",
       "      <td>1.0</td>\n",
       "    </tr>\n",
       "    <tr>\n",
       "      <th>3</th>\n",
       "      <td>3</td>\n",
       "      <td>The development of Electric vehicles is becomi...</td>\n",
       "      <td>POSITIVE</td>\n",
       "      <td>the development of electric vehicles is becomi...</td>\n",
       "      <td>2.0</td>\n",
       "    </tr>\n",
       "    <tr>\n",
       "      <th>4</th>\n",
       "      <td>4</td>\n",
       "      <td>Happy Valentine's day! Today we share out love...</td>\n",
       "      <td>POSITIVE</td>\n",
       "      <td>happy valentines day today we share out love w...</td>\n",
       "      <td>2.0</td>\n",
       "    </tr>\n",
       "  </tbody>\n",
       "</table>\n",
       "</div>"
      ],
      "text/plain": [
       "   Unnamed: 0                                      Tweet_Content    Labels  \\\n",
       "0           0  If you ask me $NIO ET7 is on elf the best look...  POSITIVE   \n",
       "1           1  Here are the annual UK vehicle registration % ...  POSITIVE   \n",
       "2           2  Robert Downey Jr. turns his classic cars into ...   NEUTRAL   \n",
       "3           3  The development of Electric vehicles is becomi...  POSITIVE   \n",
       "4           4  Happy Valentine's day! Today we share out love...  POSITIVE   \n",
       "\n",
       "                                      Cleaned_Tweets  Sentiment  \n",
       "0  if you ask me nio et7 is on elf the best looki...        2.0  \n",
       "1  here are the annual uk vehicle registration fo...        2.0  \n",
       "2  robert downey jr turns his classic cars into e...        1.0  \n",
       "3  the development of electric vehicles is becomi...        2.0  \n",
       "4  happy valentines day today we share out love w...        2.0  "
      ]
     },
     "execution_count": 8,
     "metadata": {},
     "output_type": "execute_result"
    }
   ],
   "source": [
    "original.head()"
   ]
  },
  {
   "cell_type": "code",
   "execution_count": 10,
   "metadata": {},
   "outputs": [
    {
     "data": {
      "text/plain": [
       "Index(['Unnamed: 0', 'Tweet_Content', 'Labels', 'Cleaned_Tweets', 'Sentiment'], dtype='object')"
      ]
     },
     "execution_count": 10,
     "metadata": {},
     "output_type": "execute_result"
    }
   ],
   "source": [
    "original.columns"
   ]
  },
  {
   "cell_type": "code",
   "execution_count": 11,
   "metadata": {},
   "outputs": [],
   "source": [
    "original.drop(\"Unnamed: 0\", axis=1, inplace=True)"
   ]
  },
  {
   "cell_type": "code",
   "execution_count": 13,
   "metadata": {},
   "outputs": [],
   "source": [
    "original.to_csv(\"../100_data/102_processed/full_cleaned_df.csv\")"
   ]
  }
 ],
 "metadata": {
  "kernelspec": {
   "display_name": "Python 3",
   "language": "python",
   "name": "python3"
  },
  "language_info": {
   "codemirror_mode": {
    "name": "ipython",
    "version": 3
   },
   "file_extension": ".py",
   "mimetype": "text/x-python",
   "name": "python",
   "nbconvert_exporter": "python",
   "pygments_lexer": "ipython3",
   "version": "3.12.7"
  }
 },
 "nbformat": 4,
 "nbformat_minor": 2
}
