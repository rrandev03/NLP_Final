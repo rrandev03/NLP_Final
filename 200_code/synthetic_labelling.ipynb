{
 "cells": [
  {
   "cell_type": "code",
   "execution_count": 2,
   "metadata": {},
   "outputs": [],
   "source": [
    "import pandas as pd\n",
    "import numpy as np\n",
    "\n",
    "pd.set_option(\"mode.copy_on_write\", True)"
   ]
  },
  {
   "cell_type": "code",
   "execution_count": 65,
   "metadata": {},
   "outputs": [
    {
     "data": {
      "text/html": [
       "<div>\n",
       "<style scoped>\n",
       "    .dataframe tbody tr th:only-of-type {\n",
       "        vertical-align: middle;\n",
       "    }\n",
       "\n",
       "    .dataframe tbody tr th {\n",
       "        vertical-align: top;\n",
       "    }\n",
       "\n",
       "    .dataframe thead th {\n",
       "        text-align: right;\n",
       "    }\n",
       "</style>\n",
       "<table border=\"1\" class=\"dataframe\">\n",
       "  <thead>\n",
       "    <tr style=\"text-align: right;\">\n",
       "      <th></th>\n",
       "      <th>Tweets</th>\n",
       "    </tr>\n",
       "  </thead>\n",
       "  <tbody>\n",
       "    <tr>\n",
       "      <th>135</th>\n",
       "      <td>16. \"EVs with 3D-printed components reduce production waste and enable customization. ♻️🖨️ #FutureCars\"</td>\n",
       "    </tr>\n",
       "  </tbody>\n",
       "</table>\n",
       "</div>"
      ],
      "text/plain": [
       "                                                                                                      Tweets\n",
       "135  16. \"EVs with 3D-printed components reduce production waste and enable customization. ♻️🖨️ #FutureCars\""
      ]
     },
     "execution_count": 65,
     "metadata": {},
     "output_type": "execute_result"
    }
   ],
   "source": [
    "synth = pd.read_csv(\"../100_data/101_raw/synthetic_tweets.csv\")\n",
    "synth.sample()"
   ]
  },
  {
   "cell_type": "code",
   "execution_count": 66,
   "metadata": {},
   "outputs": [
    {
     "data": {
      "text/html": [
       "<div>\n",
       "<style scoped>\n",
       "    .dataframe tbody tr th:only-of-type {\n",
       "        vertical-align: middle;\n",
       "    }\n",
       "\n",
       "    .dataframe tbody tr th {\n",
       "        vertical-align: top;\n",
       "    }\n",
       "\n",
       "    .dataframe thead th {\n",
       "        text-align: right;\n",
       "    }\n",
       "</style>\n",
       "<table border=\"1\" class=\"dataframe\">\n",
       "  <thead>\n",
       "    <tr style=\"text-align: right;\">\n",
       "      <th></th>\n",
       "      <th>Tweets</th>\n",
       "    </tr>\n",
       "  </thead>\n",
       "  <tbody>\n",
       "    <tr>\n",
       "      <th>0</th>\n",
       "      <td>EVs convert over 77% of electrical energy into motion, compared to 12-30% for gasoline cars. #Efficiency</td>\n",
       "    </tr>\n",
       "    <tr>\n",
       "      <th>1</th>\n",
       "      <td>EV motors have only 20 moving parts vs. 2,000+ in gas engines. That’s simplicity at its finest. #ElectricVehicles</td>\n",
       "    </tr>\n",
       "    <tr>\n",
       "      <th>2</th>\n",
       "      <td>The world’s best-selling EV? The Tesla Model Y, leading the charge toward a cleaner future. 🚗⚡ #EVFacts</td>\n",
       "    </tr>\n",
       "    <tr>\n",
       "      <th>3</th>\n",
       "      <td>Electric cars first appeared in the 1800s, but today’s models are light-years ahead. #Throwback #EVHistory</td>\n",
       "    </tr>\n",
       "    <tr>\n",
       "      <th>4</th>\n",
       "      <td>EVs can run on renewable energy, making them truly zero-emission vehicles. 🌱 #SustainableDriving</td>\n",
       "    </tr>\n",
       "    <tr>\n",
       "      <th>...</th>\n",
       "      <td>...</td>\n",
       "    </tr>\n",
       "    <tr>\n",
       "      <th>295</th>\n",
       "      <td>Power your gadgets on the go with EV outlets. Camping just got an upgrade! 🔋🏕️ #ConnectedCamping</td>\n",
       "    </tr>\n",
       "    <tr>\n",
       "      <th>296</th>\n",
       "      <td>Forget gas station snacks—charging stops are bringing gourmet food to the road. 🍕🔋 #BetterBreaks</td>\n",
       "    </tr>\n",
       "    <tr>\n",
       "      <th>297</th>\n",
       "      <td>EV adoption is reshaping communities, making them greener and cleaner. 🌍🏙️ #BetterLiving</td>\n",
       "    </tr>\n",
       "    <tr>\n",
       "      <th>298</th>\n",
       "      <td>Make your weekends count with guilt-free driving in your EV. 🌿🚗 #EcoJoyrides</td>\n",
       "    </tr>\n",
       "    <tr>\n",
       "      <th>299</th>\n",
       "      <td>EVs are more than a car—they're a lifestyle choice for a sustainable future. 🚗⚡ #DriveGreen</td>\n",
       "    </tr>\n",
       "  </tbody>\n",
       "</table>\n",
       "<p>300 rows × 1 columns</p>\n",
       "</div>"
      ],
      "text/plain": [
       "                                                                                                                Tweets\n",
       "0             EVs convert over 77% of electrical energy into motion, compared to 12-30% for gasoline cars. #Efficiency\n",
       "1    EV motors have only 20 moving parts vs. 2,000+ in gas engines. That’s simplicity at its finest. #ElectricVehicles\n",
       "2              The world’s best-selling EV? The Tesla Model Y, leading the charge toward a cleaner future. 🚗⚡ #EVFacts\n",
       "3           Electric cars first appeared in the 1800s, but today’s models are light-years ahead. #Throwback #EVHistory\n",
       "4                     EVs can run on renewable energy, making them truly zero-emission vehicles. 🌱 #SustainableDriving\n",
       "..                                                                                                                 ...\n",
       "295                   Power your gadgets on the go with EV outlets. Camping just got an upgrade! 🔋🏕️ #ConnectedCamping\n",
       "296                   Forget gas station snacks—charging stops are bringing gourmet food to the road. 🍕🔋 #BetterBreaks\n",
       "297                           EV adoption is reshaping communities, making them greener and cleaner. 🌍🏙️ #BetterLiving\n",
       "298                                       Make your weekends count with guilt-free driving in your EV. 🌿🚗 #EcoJoyrides\n",
       "299                        EVs are more than a car—they're a lifestyle choice for a sustainable future. 🚗⚡ #DriveGreen\n",
       "\n",
       "[300 rows x 1 columns]"
      ]
     },
     "execution_count": 66,
     "metadata": {},
     "output_type": "execute_result"
    }
   ],
   "source": [
    "synth[\"Tweets\"] = (\n",
    "    synth[\"Tweets\"].str.replace(\"^...\", \"\", regex=True).str.strip().str.strip('\"')\n",
    ")\n",
    "synth"
   ]
  },
  {
   "cell_type": "code",
   "execution_count": 42,
   "metadata": {},
   "outputs": [
    {
     "data": {
      "text/plain": [
       "Index([ 13, 118,  35,  67, 181, 101, 223,  93, 166, 190,  76, 265,  51, 219,\n",
       "       201, 162, 148,  63,   1, 196, 262, 130, 238, 274,  27, 297,  57,  53,\n",
       "       246,  84, 123, 114,  17,  20, 195, 281, 202,  60, 128, 290, 272, 247,\n",
       "        61, 106, 241,  78, 133,  97, 149, 191,  87, 194, 199,  26, 198,  40,\n",
       "       164,  92, 178,  12,  64,  85,   8, 112, 154, 256, 231, 182,  77, 299,\n",
       "       110, 100, 180, 155, 234,  90, 286, 200, 122, 215, 111, 230,  48,  24,\n",
       "       174,  41,  23,   6, 136, 252,  37, 216, 120,  59, 268, 171, 217,  88,\n",
       "       289,  21],\n",
       "      dtype='int64')"
      ]
     },
     "execution_count": 42,
     "metadata": {},
     "output_type": "execute_result"
    }
   ],
   "source": [
    "train = synth.sample(100, random_state=30).index\n",
    "train"
   ]
  },
  {
   "cell_type": "code",
   "execution_count": 22,
   "metadata": {},
   "outputs": [
    {
     "data": {
      "text/plain": [
       "Index([222, 131,  42, 232, 189,  38, 193, 221, 204, 260, 116, 151,  33, 107,\n",
       "       163, 278, 170, 102, 145, 277, 138, 243, 208,  79, 153, 298, 284, 157,\n",
       "       156, 159, 214,  91,  55, 175,  83,  39,   2, 229, 291, 186, 192,  96,\n",
       "       142, 235,  65,  29,   0, 261, 279,  18],\n",
       "      dtype='int64')"
      ]
     },
     "execution_count": 22,
     "metadata": {},
     "output_type": "execute_result"
    }
   ],
   "source": [
    "test = synth.loc[~synth.index.isin(train)].sample(50, random_state=30).index\n",
    "assert len(set(train).intersection(set(test))) == 0\n",
    "test"
   ]
  },
  {
   "cell_type": "code",
   "execution_count": 67,
   "metadata": {},
   "outputs": [
    {
     "data": {
      "text/html": [
       "<div>\n",
       "<style scoped>\n",
       "    .dataframe tbody tr th:only-of-type {\n",
       "        vertical-align: middle;\n",
       "    }\n",
       "\n",
       "    .dataframe tbody tr th {\n",
       "        vertical-align: top;\n",
       "    }\n",
       "\n",
       "    .dataframe thead th {\n",
       "        text-align: right;\n",
       "    }\n",
       "</style>\n",
       "<table border=\"1\" class=\"dataframe\">\n",
       "  <thead>\n",
       "    <tr style=\"text-align: right;\">\n",
       "      <th></th>\n",
       "      <th>Tweets</th>\n",
       "    </tr>\n",
       "  </thead>\n",
       "  <tbody>\n",
       "    <tr>\n",
       "      <th>13</th>\n",
       "      <td>An EV is about 4x cheaper to operate per mile than a gas car. #Savings</td>\n",
       "    </tr>\n",
       "    <tr>\n",
       "      <th>118</th>\n",
       "      <td>Switching to EVs can help reduce the environmental impact of mining for oil. ⛏️❌ #CleanChoices</td>\n",
       "    </tr>\n",
       "    <tr>\n",
       "      <th>35</th>\n",
       "      <td>There are EV models for every need, from city cars to SUVs. 🚙⚡ #ChoiceMatters</td>\n",
       "    </tr>\n",
       "    <tr>\n",
       "      <th>67</th>\n",
       "      <td>Renewable energy-powered EVs have the smallest carbon footprint of any vehicle type. ☀️⚡ #GreenDriving</td>\n",
       "    </tr>\n",
       "    <tr>\n",
       "      <th>181</th>\n",
       "      <td>Say goodbye to oil changes and costly engine repairs. EVs have fewer moving parts. 🛠️ #CostEfficient</td>\n",
       "    </tr>\n",
       "    <tr>\n",
       "      <th>...</th>\n",
       "      <td>...</td>\n",
       "    </tr>\n",
       "    <tr>\n",
       "      <th>171</th>\n",
       "      <td>Smart EVs with vehicle-to-everything (V2X) tech will communicate with traffic systems. 🛣️🔗 #ConnectedDriving</td>\n",
       "    </tr>\n",
       "    <tr>\n",
       "      <th>217</th>\n",
       "      <td>Charging at night takes advantage of off-peak electricity rates, reducing costs further. 🌙⚡ #SmartCharging</td>\n",
       "    </tr>\n",
       "    <tr>\n",
       "      <th>88</th>\n",
       "      <td>Electric buses are improving public transit while cutting emissions. 🚌⚡ #GreenTransit</td>\n",
       "    </tr>\n",
       "    <tr>\n",
       "      <th>289</th>\n",
       "      <td>Your EV doubles as a backup power source in emergencies. 🏡🔋 #BePrepared</td>\n",
       "    </tr>\n",
       "    <tr>\n",
       "      <th>21</th>\n",
       "      <td>The fastest production car in the world is electric: the Rimac Nevera. 0-60 in 1.85 seconds. #EVTech</td>\n",
       "    </tr>\n",
       "  </tbody>\n",
       "</table>\n",
       "<p>100 rows × 1 columns</p>\n",
       "</div>"
      ],
      "text/plain": [
       "                                                                                                           Tweets\n",
       "13                                         An EV is about 4x cheaper to operate per mile than a gas car. #Savings\n",
       "118                Switching to EVs can help reduce the environmental impact of mining for oil. ⛏️❌ #CleanChoices\n",
       "35                                  There are EV models for every need, from city cars to SUVs. 🚙⚡ #ChoiceMatters\n",
       "67         Renewable energy-powered EVs have the smallest carbon footprint of any vehicle type. ☀️⚡ #GreenDriving\n",
       "181          Say goodbye to oil changes and costly engine repairs. EVs have fewer moving parts. 🛠️ #CostEfficient\n",
       "..                                                                                                            ...\n",
       "171  Smart EVs with vehicle-to-everything (V2X) tech will communicate with traffic systems. 🛣️🔗 #ConnectedDriving\n",
       "217    Charging at night takes advantage of off-peak electricity rates, reducing costs further. 🌙⚡ #SmartCharging\n",
       "88                          Electric buses are improving public transit while cutting emissions. 🚌⚡ #GreenTransit\n",
       "289                                       Your EV doubles as a backup power source in emergencies. 🏡🔋 #BePrepared\n",
       "21           The fastest production car in the world is electric: the Rimac Nevera. 0-60 in 1.85 seconds. #EVTech\n",
       "\n",
       "[100 rows x 1 columns]"
      ]
     },
     "execution_count": 67,
     "metadata": {},
     "output_type": "execute_result"
    }
   ],
   "source": [
    "pd.set_option(\"display.max_colwidth\", None)\n",
    "synth_train = synth.iloc[train, :][[\"Tweets\"]]\n",
    "synth_train"
   ]
  },
  {
   "cell_type": "code",
   "execution_count": 68,
   "metadata": {},
   "outputs": [
    {
     "name": "stdout",
     "output_type": "stream",
     "text": [
      "['An EV is about 4x cheaper to operate per mile than a gas car. #Savings']\n",
      "['Switching to EVs can help reduce the environmental impact of mining for oil. ⛏️❌ #CleanChoices']\n",
      "['There are EV models for every need, from city cars to SUVs. 🚙⚡ #ChoiceMatters']\n",
      "['Renewable energy-powered EVs have the smallest carbon footprint of any vehicle type. ☀️⚡ #GreenDriving']\n",
      "['Say goodbye to oil changes and costly engine repairs. EVs have fewer moving parts. 🛠️ #CostEfficient']\n",
      "['EVs eliminate the need for fossil fuel combustion, reducing greenhouse gases. 🌍 #CleanerEnergy']\n",
      "['Many automakers offer affordable financing options for EV buyers. 🚗💳 #EasyOwnership']\n",
      "['Reducing tailpipe emissions also reduces acid rain, protecting ecosystems. 🌦️ #GreenChoice']\n",
      "['3D-printed EV batteries could reduce production costs and increase recycling efficiency. ♻️🔋 #Innovation']\n",
      "['Lower total cost of ownership (TCO) makes EVs a smart financial choice over time. 📊 #SmartMoney']\n",
      "['Air pollution kills 7 million people annually worldwide. EVs can help save lives. 🌬️ #CleanTransportation']\n",
      "['Planning EV-friendly trips means discovering new cafes and spots near charging stations. ☕📍 #TravelWithPurpose']\n",
      "['Many EVs come with free public charging incentives from manufacturers. 🔌 #Perks']\n",
      "['EVs are becoming the go-to choice for rideshare drivers thanks to low operating costs. 🚕⚡ #RideGreen']\n",
      "['Driving electric is a hedge against rising gasoline prices. 🔋⛽ #FutureProof']\n",
      "['Next-gen EVs will feature AI copilots to guide you through traffic and optimize routes. 🧠🚗 #AIInnovation']\n",
      "['In-wheel electric motors could boost EV efficiency and performance. 🚗⚙️ #NextGenDesign']\n",
      "['Cities with high EV adoption see significantly lower air pollution. Cleaner air for everyone! 🌎 #DriveElectric']\n",
      "['EV motors have only 20 moving parts vs. 2,000+ in gas engines. That’s simplicity at its finest. #ElectricVehicles']\n",
      "['EV owners save on road taxes in some states. Incentives keep piling up! 🚦💵 #EVBenefits']\n",
      "['EV camping? Power your gadgets and stay connected on the go! 🔋🏕️ #AdventureTech']\n",
      "['Wireless charging pads for EVs could soon replace bulky cables entirely. 🔌❌ #SeamlessCharging']\n",
      "['Green bonds are funding massive EV infrastructure projects, making future charging cheaper. 🌍🔋 #SmartInvestments']\n",
      "['Never be late again—smart apps can warm up your EV before you step in. 🌡️📱 #UltimateComfort']\n",
      "['EVs can be powered by solar panels at home, making them truly renewable. 🌞 #EVLifestyle']\n"
     ]
    }
   ],
   "source": [
    "counter = 0\n",
    "for row in synth_train.values:\n",
    "    if counter < 25:\n",
    "        print(row)\n",
    "        counter += 1\n",
    "    else:\n",
    "        break"
   ]
  },
  {
   "cell_type": "code",
   "execution_count": null,
   "metadata": {},
   "outputs": [],
   "source": [
    "train_manual_labels = [\"\"]\n",
    "# assert len(train_manual_labels) == 25"
   ]
  }
 ],
 "metadata": {
  "kernelspec": {
   "display_name": "base",
   "language": "python",
   "name": "python3"
  },
  "language_info": {
   "codemirror_mode": {
    "name": "ipython",
    "version": 3
   },
   "file_extension": ".py",
   "mimetype": "text/x-python",
   "name": "python",
   "nbconvert_exporter": "python",
   "pygments_lexer": "ipython3",
   "version": "3.12.5"
  }
 },
 "nbformat": 4,
 "nbformat_minor": 2
}
