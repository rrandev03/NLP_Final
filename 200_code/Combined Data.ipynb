{
 "cells": [
  {
   "cell_type": "code",
   "execution_count": 2,
   "metadata": {},
   "outputs": [
    {
     "name": "stdout",
     "output_type": "stream",
     "text": [
      "Combined 8 files\n"
     ]
    }
   ],
   "source": [
    "import os\n",
    "import pandas as pd\n",
    "\n",
    "# Specify the folder containing the files\n",
    "folder_path = \"../100_data/101_raw\"\n",
    "\n",
    "# Get a list of all CSV and Excel files in the folder\n",
    "csv_files = [file for file in os.listdir(folder_path) if file.endswith(\".csv\")]\n",
    "excel_files = [\n",
    "    file for file in os.listdir(folder_path) if file.endswith((\".xlsx\", \".xls\"))\n",
    "]\n",
    "\n",
    "# Combine all files\n",
    "combined_df = pd.DataFrame()\n",
    "\n",
    "# Process CSV files\n",
    "for csv_file in csv_files:\n",
    "    file_path = os.path.join(folder_path, csv_file)\n",
    "    df = pd.read_csv(file_path)  # Read each CSV file\n",
    "    combined_df = pd.concat(\n",
    "        [combined_df, df], ignore_index=True\n",
    "    )  # Concatenate dataframes\n",
    "\n",
    "# Process Excel files\n",
    "for excel_file in excel_files:\n",
    "    file_path = os.path.join(folder_path, excel_file)\n",
    "    df = pd.read_excel(file_path)  # Read each Excel file\n",
    "    combined_df = pd.concat(\n",
    "        [combined_df, df], ignore_index=True\n",
    "    )  # Concatenate dataframes\n",
    "\n",
    "# Save the combined dataframe to a new CSV file in ../100_data/101_raw\n",
    "# output_path = os.path.join(folder_path, \"combined_file.csv\")\n",
    "combined_df.to_csv(\"../100_data/102_processed/combined_file.csv\", index=False)\n",
    "\n",
    "print(f\"Combined {len(csv_files) + len(excel_files)} files\")"
   ]
  },
  {
   "cell_type": "code",
   "execution_count": 3,
   "metadata": {},
   "outputs": [
    {
     "name": "stderr",
     "output_type": "stream",
     "text": [
      "/var/folders/t7/h0x6yb2j33qbz7kzz12cv3tw0000gn/T/ipykernel_98358/42062104.py:1: DtypeWarning: Columns (7,16,22,23,24,25,26,27,28,29,30,31,32,39,40,41,42,43,44,45,46,47,48,49) have mixed types. Specify dtype option on import or set low_memory=False.\n",
      "  a = pd.read_csv(\"../100_data/101_raw/combined_file.csv\")\n"
     ]
    }
   ],
   "source": [
    "a = pd.read_csv(\"../100_data/101_raw/combined_file.csv\")\n",
    "a = a[a[\"Tweet_Content\"] != \"SUM\"]\n",
    "a.to_csv(\"../100_data/101_raw/combined_file.csv\", index=False)"
   ]
  },
  {
   "cell_type": "code",
   "execution_count": null,
   "metadata": {},
   "outputs": [],
   "source": []
  },
  {
   "cell_type": "code",
   "execution_count": null,
   "metadata": {},
   "outputs": [],
   "source": []
  }
 ],
 "metadata": {
  "kernelspec": {
   "display_name": "base",
   "language": "python",
   "name": "python3"
  },
  "language_info": {
   "codemirror_mode": {
    "name": "ipython",
    "version": 3
   },
   "file_extension": ".py",
   "mimetype": "text/x-python",
   "name": "python",
   "nbconvert_exporter": "python",
   "pygments_lexer": "ipython3",
   "version": "3.12.5"
  }
 },
 "nbformat": 4,
 "nbformat_minor": 2
}
